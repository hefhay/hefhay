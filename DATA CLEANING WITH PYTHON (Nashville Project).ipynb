{
 "cells": [
  {
   "cell_type": "code",
   "execution_count": 1,
   "id": "aa51c9ac",
   "metadata": {
    "scrolled": true
   },
   "outputs": [],
   "source": [
    "import pandas as pd\n",
    "import numpy as np\n",
    "\n",
    "import matplotlib.pyplot as plt\n",
    "import seaborn as sns"
   ]
  },
  {
   "cell_type": "code",
   "execution_count": 4,
   "id": "b71df615",
   "metadata": {},
   "outputs": [],
   "source": [
    "path = 'https://github.com/AlexTheAnalyst/PortfolioProjects/raw/main/Nashville%20Housing%20Data%20for%20Data%20Cleaning.xlsx' "
   ]
  },
  {
   "cell_type": "code",
   "execution_count": 5,
   "id": "3bd2122f",
   "metadata": {},
   "outputs": [],
   "source": [
    "data = pd.read_excel(path, engine='openpyxl')"
   ]
  },
  {
   "cell_type": "code",
   "execution_count": null,
   "id": "01c1ec6e",
   "metadata": {},
   "outputs": [],
   "source": [
    "# !pip install openpyxl"
   ]
  },
  {
   "cell_type": "code",
   "execution_count": 6,
   "id": "db58d338",
   "metadata": {
    "scrolled": true
   },
   "outputs": [
    {
     "data": {
      "text/html": [
       "<div>\n",
       "<style scoped>\n",
       "    .dataframe tbody tr th:only-of-type {\n",
       "        vertical-align: middle;\n",
       "    }\n",
       "\n",
       "    .dataframe tbody tr th {\n",
       "        vertical-align: top;\n",
       "    }\n",
       "\n",
       "    .dataframe thead th {\n",
       "        text-align: right;\n",
       "    }\n",
       "</style>\n",
       "<table border=\"1\" class=\"dataframe\">\n",
       "  <thead>\n",
       "    <tr style=\"text-align: right;\">\n",
       "      <th></th>\n",
       "      <th>UniqueID</th>\n",
       "      <th>ParcelID</th>\n",
       "      <th>LandUse</th>\n",
       "      <th>PropertyAddress</th>\n",
       "      <th>SaleDate</th>\n",
       "      <th>SalePrice</th>\n",
       "      <th>LegalReference</th>\n",
       "      <th>SoldAsVacant</th>\n",
       "      <th>OwnerName</th>\n",
       "      <th>OwnerAddress</th>\n",
       "      <th>Acreage</th>\n",
       "      <th>TaxDistrict</th>\n",
       "      <th>LandValue</th>\n",
       "      <th>BuildingValue</th>\n",
       "      <th>TotalValue</th>\n",
       "      <th>YearBuilt</th>\n",
       "      <th>Bedrooms</th>\n",
       "      <th>FullBath</th>\n",
       "      <th>HalfBath</th>\n",
       "    </tr>\n",
       "  </thead>\n",
       "  <tbody>\n",
       "    <tr>\n",
       "      <th>0</th>\n",
       "      <td>2045</td>\n",
       "      <td>007 00 0 125.00</td>\n",
       "      <td>SINGLE FAMILY</td>\n",
       "      <td>1808  FOX CHASE DR, GOODLETTSVILLE</td>\n",
       "      <td>2013-04-09</td>\n",
       "      <td>240000</td>\n",
       "      <td>20130412-0036474</td>\n",
       "      <td>No</td>\n",
       "      <td>FRAZIER, CYRENTHA LYNETTE</td>\n",
       "      <td>1808  FOX CHASE DR, GOODLETTSVILLE, TN</td>\n",
       "      <td>2.3</td>\n",
       "      <td>GENERAL SERVICES DISTRICT</td>\n",
       "      <td>50000.0</td>\n",
       "      <td>168200.0</td>\n",
       "      <td>235700.0</td>\n",
       "      <td>1986.0</td>\n",
       "      <td>3.0</td>\n",
       "      <td>3.0</td>\n",
       "      <td>0.0</td>\n",
       "    </tr>\n",
       "    <tr>\n",
       "      <th>1</th>\n",
       "      <td>16918</td>\n",
       "      <td>007 00 0 130.00</td>\n",
       "      <td>SINGLE FAMILY</td>\n",
       "      <td>1832  FOX CHASE DR, GOODLETTSVILLE</td>\n",
       "      <td>2014-06-10</td>\n",
       "      <td>366000</td>\n",
       "      <td>20140619-0053768</td>\n",
       "      <td>No</td>\n",
       "      <td>BONER, CHARLES &amp; LESLIE</td>\n",
       "      <td>1832  FOX CHASE DR, GOODLETTSVILLE, TN</td>\n",
       "      <td>3.5</td>\n",
       "      <td>GENERAL SERVICES DISTRICT</td>\n",
       "      <td>50000.0</td>\n",
       "      <td>264100.0</td>\n",
       "      <td>319000.0</td>\n",
       "      <td>1998.0</td>\n",
       "      <td>3.0</td>\n",
       "      <td>3.0</td>\n",
       "      <td>2.0</td>\n",
       "    </tr>\n",
       "    <tr>\n",
       "      <th>2</th>\n",
       "      <td>54582</td>\n",
       "      <td>007 00 0 138.00</td>\n",
       "      <td>SINGLE FAMILY</td>\n",
       "      <td>1864 FOX CHASE  DR, GOODLETTSVILLE</td>\n",
       "      <td>2016-09-26</td>\n",
       "      <td>435000</td>\n",
       "      <td>20160927-0101718</td>\n",
       "      <td>No</td>\n",
       "      <td>WILSON, JAMES E. &amp; JOANNE</td>\n",
       "      <td>1864  FOX CHASE DR, GOODLETTSVILLE, TN</td>\n",
       "      <td>2.9</td>\n",
       "      <td>GENERAL SERVICES DISTRICT</td>\n",
       "      <td>50000.0</td>\n",
       "      <td>216200.0</td>\n",
       "      <td>298000.0</td>\n",
       "      <td>1987.0</td>\n",
       "      <td>4.0</td>\n",
       "      <td>3.0</td>\n",
       "      <td>0.0</td>\n",
       "    </tr>\n",
       "    <tr>\n",
       "      <th>3</th>\n",
       "      <td>43070</td>\n",
       "      <td>007 00 0 143.00</td>\n",
       "      <td>SINGLE FAMILY</td>\n",
       "      <td>1853  FOX CHASE DR, GOODLETTSVILLE</td>\n",
       "      <td>2016-01-29</td>\n",
       "      <td>255000</td>\n",
       "      <td>20160129-0008913</td>\n",
       "      <td>No</td>\n",
       "      <td>BAKER, JAY K. &amp; SUSAN E.</td>\n",
       "      <td>1853  FOX CHASE DR, GOODLETTSVILLE, TN</td>\n",
       "      <td>2.6</td>\n",
       "      <td>GENERAL SERVICES DISTRICT</td>\n",
       "      <td>50000.0</td>\n",
       "      <td>147300.0</td>\n",
       "      <td>197300.0</td>\n",
       "      <td>1985.0</td>\n",
       "      <td>3.0</td>\n",
       "      <td>3.0</td>\n",
       "      <td>0.0</td>\n",
       "    </tr>\n",
       "    <tr>\n",
       "      <th>4</th>\n",
       "      <td>22714</td>\n",
       "      <td>007 00 0 149.00</td>\n",
       "      <td>SINGLE FAMILY</td>\n",
       "      <td>1829  FOX CHASE DR, GOODLETTSVILLE</td>\n",
       "      <td>2014-10-10</td>\n",
       "      <td>278000</td>\n",
       "      <td>20141015-0095255</td>\n",
       "      <td>No</td>\n",
       "      <td>POST, CHRISTOPHER M. &amp; SAMANTHA C.</td>\n",
       "      <td>1829  FOX CHASE DR, GOODLETTSVILLE, TN</td>\n",
       "      <td>2.0</td>\n",
       "      <td>GENERAL SERVICES DISTRICT</td>\n",
       "      <td>50000.0</td>\n",
       "      <td>152300.0</td>\n",
       "      <td>202300.0</td>\n",
       "      <td>1984.0</td>\n",
       "      <td>4.0</td>\n",
       "      <td>3.0</td>\n",
       "      <td>0.0</td>\n",
       "    </tr>\n",
       "  </tbody>\n",
       "</table>\n",
       "</div>"
      ],
      "text/plain": [
       "   UniqueID          ParcelID        LandUse  \\\n",
       "0       2045  007 00 0 125.00  SINGLE FAMILY   \n",
       "1      16918  007 00 0 130.00  SINGLE FAMILY   \n",
       "2      54582  007 00 0 138.00  SINGLE FAMILY   \n",
       "3      43070  007 00 0 143.00  SINGLE FAMILY   \n",
       "4      22714  007 00 0 149.00  SINGLE FAMILY   \n",
       "\n",
       "                      PropertyAddress   SaleDate  SalePrice    LegalReference  \\\n",
       "0  1808  FOX CHASE DR, GOODLETTSVILLE 2013-04-09     240000  20130412-0036474   \n",
       "1  1832  FOX CHASE DR, GOODLETTSVILLE 2014-06-10     366000  20140619-0053768   \n",
       "2  1864 FOX CHASE  DR, GOODLETTSVILLE 2016-09-26     435000  20160927-0101718   \n",
       "3  1853  FOX CHASE DR, GOODLETTSVILLE 2016-01-29     255000  20160129-0008913   \n",
       "4  1829  FOX CHASE DR, GOODLETTSVILLE 2014-10-10     278000  20141015-0095255   \n",
       "\n",
       "  SoldAsVacant                           OwnerName  \\\n",
       "0           No           FRAZIER, CYRENTHA LYNETTE   \n",
       "1           No             BONER, CHARLES & LESLIE   \n",
       "2           No           WILSON, JAMES E. & JOANNE   \n",
       "3           No            BAKER, JAY K. & SUSAN E.   \n",
       "4           No  POST, CHRISTOPHER M. & SAMANTHA C.   \n",
       "\n",
       "                             OwnerAddress  Acreage                TaxDistrict  \\\n",
       "0  1808  FOX CHASE DR, GOODLETTSVILLE, TN      2.3  GENERAL SERVICES DISTRICT   \n",
       "1  1832  FOX CHASE DR, GOODLETTSVILLE, TN      3.5  GENERAL SERVICES DISTRICT   \n",
       "2  1864  FOX CHASE DR, GOODLETTSVILLE, TN      2.9  GENERAL SERVICES DISTRICT   \n",
       "3  1853  FOX CHASE DR, GOODLETTSVILLE, TN      2.6  GENERAL SERVICES DISTRICT   \n",
       "4  1829  FOX CHASE DR, GOODLETTSVILLE, TN      2.0  GENERAL SERVICES DISTRICT   \n",
       "\n",
       "   LandValue  BuildingValue  TotalValue  YearBuilt  Bedrooms  FullBath  \\\n",
       "0    50000.0       168200.0    235700.0     1986.0       3.0       3.0   \n",
       "1    50000.0       264100.0    319000.0     1998.0       3.0       3.0   \n",
       "2    50000.0       216200.0    298000.0     1987.0       4.0       3.0   \n",
       "3    50000.0       147300.0    197300.0     1985.0       3.0       3.0   \n",
       "4    50000.0       152300.0    202300.0     1984.0       4.0       3.0   \n",
       "\n",
       "   HalfBath  \n",
       "0       0.0  \n",
       "1       2.0  \n",
       "2       0.0  \n",
       "3       0.0  \n",
       "4       0.0  "
      ]
     },
     "execution_count": 6,
     "metadata": {},
     "output_type": "execute_result"
    }
   ],
   "source": [
    "#the preview of the data\n",
    "data.head()"
   ]
  },
  {
   "cell_type": "code",
   "execution_count": 7,
   "id": "313f8bd2",
   "metadata": {},
   "outputs": [],
   "source": [
    "df = data.copy()"
   ]
  },
  {
   "cell_type": "code",
   "execution_count": 8,
   "id": "904bcc2e",
   "metadata": {},
   "outputs": [
    {
     "name": "stdout",
     "output_type": "stream",
     "text": [
      "<class 'pandas.core.frame.DataFrame'>\n",
      "RangeIndex: 56477 entries, 0 to 56476\n",
      "Data columns (total 19 columns):\n",
      " #   Column           Non-Null Count  Dtype         \n",
      "---  ------           --------------  -----         \n",
      " 0   UniqueID         56477 non-null  int64         \n",
      " 1   ParcelID         56477 non-null  object        \n",
      " 2   LandUse          56477 non-null  object        \n",
      " 3   PropertyAddress  56448 non-null  object        \n",
      " 4   SaleDate         56477 non-null  datetime64[ns]\n",
      " 5   SalePrice        56477 non-null  int64         \n",
      " 6   LegalReference   56477 non-null  object        \n",
      " 7   SoldAsVacant     56477 non-null  object        \n",
      " 8   OwnerName        25261 non-null  object        \n",
      " 9   OwnerAddress     26015 non-null  object        \n",
      " 10  Acreage          26015 non-null  float64       \n",
      " 11  TaxDistrict      26015 non-null  object        \n",
      " 12  LandValue        26015 non-null  float64       \n",
      " 13  BuildingValue    26015 non-null  float64       \n",
      " 14  TotalValue       26015 non-null  float64       \n",
      " 15  YearBuilt        24163 non-null  float64       \n",
      " 16  Bedrooms         24157 non-null  float64       \n",
      " 17  FullBath         24275 non-null  float64       \n",
      " 18  HalfBath         24144 non-null  float64       \n",
      "dtypes: datetime64[ns](1), float64(8), int64(2), object(8)\n",
      "memory usage: 8.2+ MB\n"
     ]
    }
   ],
   "source": [
    "df.info()"
   ]
  },
  {
   "cell_type": "code",
   "execution_count": 102,
   "id": "13c45f1d",
   "metadata": {},
   "outputs": [
    {
     "data": {
      "text/plain": [
       "UniqueID                    int64\n",
       "ParcelID                   object\n",
       "LandUse                    object\n",
       "PropertyAddress            object\n",
       "SaleDate           datetime64[ns]\n",
       "SalePrice                   int64\n",
       "LegalReference             object\n",
       "SoldAsVacant               object\n",
       "OwnerName                  object\n",
       "OwnerAddress               object\n",
       "Acreage                   float64\n",
       "TaxDistrict                object\n",
       "LandValue                 float64\n",
       "BuildingValue             float64\n",
       "TotalValue                float64\n",
       "YearBuilt                 float64\n",
       "Bedrooms                  float64\n",
       "FullBath                  float64\n",
       "HalfBath                  float64\n",
       "dtype: object"
      ]
     },
     "execution_count": 102,
     "metadata": {},
     "output_type": "execute_result"
    }
   ],
   "source": [
    "#checking the datatypes\n",
    "df.dtypes"
   ]
  },
  {
   "cell_type": "markdown",
   "id": "b7f9ce87",
   "metadata": {},
   "source": [
    "observing the columns"
   ]
  },
  {
   "cell_type": "code",
   "execution_count": 9,
   "id": "0eebb7fb",
   "metadata": {},
   "outputs": [
    {
     "data": {
      "text/plain": [
       "56476    188 10 0A 122.00\n",
       "Name: ParcelID, dtype: object"
      ]
     },
     "execution_count": 9,
     "metadata": {},
     "output_type": "execute_result"
    }
   ],
   "source": [
    "df.ParcelID.iloc[-1:]"
   ]
  },
  {
   "cell_type": "code",
   "execution_count": 10,
   "id": "367d7a07",
   "metadata": {},
   "outputs": [
    {
     "data": {
      "text/plain": [
       "7918"
      ]
     },
     "execution_count": 10,
     "metadata": {},
     "output_type": "execute_result"
    }
   ],
   "source": [
    "#checking duplicates in this columns. \n",
    "df.ParcelID.duplicated().sum()\n",
    "#since there is duplicates that meanse some id are repeating. then we can transform it "
   ]
  },
  {
   "cell_type": "code",
   "execution_count": 11,
   "id": "43d1a55d",
   "metadata": {},
   "outputs": [
    {
     "data": {
      "text/plain": [
       "0    007-00-0-125\n",
       "1    007-00-0-130\n",
       "2    007-00-0-138\n",
       "3    007-00-0-143\n",
       "4    007-00-0-149\n",
       "Name: ParcelID, dtype: object"
      ]
     },
     "execution_count": 11,
     "metadata": {},
     "output_type": "execute_result"
    }
   ],
   "source": [
    "#replacing the space with -\n",
    "df.ParcelID = df.ParcelID.replace(to_replace=r\" \", value='-', regex=True)\n",
    "\n",
    "#removing the .00 at the back of the values\n",
    "df.ParcelID = df.ParcelID.replace(to_replace=\"(.{3}$)\", value='', regex=True)\n",
    "df.ParcelID.head() "
   ]
  },
  {
   "cell_type": "code",
   "execution_count": 13,
   "id": "d5b135e5",
   "metadata": {
    "scrolled": true
   },
   "outputs": [
    {
     "data": {
      "text/plain": [
       "SINGLE FAMILY              34197\n",
       "RESIDENTIAL CONDO          14080\n",
       "VACANT RESIDENTIAL LAND     3547\n",
       "VACANT RES LAND             1549\n",
       "DUPLEX                      1373\n",
       "Name: LandUse, dtype: int64"
      ]
     },
     "execution_count": 13,
     "metadata": {},
     "output_type": "execute_result"
    }
   ],
   "source": [
    "#there is nothing to be done here\n",
    "df.LandUse.value_counts().head()"
   ]
  },
  {
   "cell_type": "code",
   "execution_count": 109,
   "id": "76ca9b85",
   "metadata": {},
   "outputs": [
    {
     "data": {
      "text/plain": [
       "1212  LAUREL ST, NASHVILLE            296\n",
       "600  12TH AVE S, NASHVILLE            208\n",
       "301  DEMONBREUN ST, NASHVILLE         146\n",
       "270  TAMPA DR, NASHVILLE              138\n",
       "1350  ROSA L PARKS BLVD, NASHVILLE    129\n",
       "                                     ... \n",
       "6101  ROBERTSON AVE, NASHVILLE          1\n",
       "569  STEVENSON ST, NASHVILLE            1\n",
       "6004  DEAL AVE, NASHVILLE               1\n",
       "6008 A  DEAL AVE, NASHVILLE             1\n",
       "1713 PARK TERRACE  LN, NOLENSVILLE      1\n",
       "Name: PropertyAddress, Length: 45068, dtype: int64"
      ]
     },
     "execution_count": 109,
     "metadata": {},
     "output_type": "execute_result"
    }
   ],
   "source": [
    "#we can replace multi spaces with one \n",
    "df.PropertyAddress.value_counts() "
   ]
  },
  {
   "cell_type": "code",
   "execution_count": 110,
   "id": "3b3b7aaa",
   "metadata": {},
   "outputs": [
    {
     "data": {
      "text/plain": [
       "1212 LAUREL ST, NASHVILLE            314\n",
       "600 12TH AVE S, NASHVILLE            221\n",
       "270 TAMPA DR, NASHVILLE              164\n",
       "301 DEMONBREUN ST, NASHVILLE         164\n",
       "1350 ROSA L PARKS BLVD, NASHVILLE    146\n",
       "                                    ... \n",
       "455 PATINA CIR, NASHVILLE              1\n",
       "443 PATINA CIR, NASHVILLE              1\n",
       "447 PATINA CIR, NASHVILLE              1\n",
       "453 PATINA CIR, NASHVILLE              1\n",
       "1713 PARK TERRACE LN, NOLENSVILLE      1\n",
       "Name: PropertyAddress, Length: 43191, dtype: int64"
      ]
     },
     "execution_count": 110,
     "metadata": {},
     "output_type": "execute_result"
    }
   ],
   "source": [
    "df.PropertyAddress = df.PropertyAddress.replace(r'  ', ' ', regex=True)\n",
    "df.PropertyAddress.value_counts() \n",
    "# you will find out that the number of the top address has increased as a result of triming the data\n",
    "\n",
    "# i noticed the total number has changed. it is possible some rows are empty"
   ]
  },
  {
   "cell_type": "code",
   "execution_count": 115,
   "id": "be7c3279",
   "metadata": {},
   "outputs": [
    {
     "data": {
      "text/plain": [
       "UniqueID               0\n",
       "ParcelID               0\n",
       "LandUse                0\n",
       "PropertyAddress       29\n",
       "SaleDate               0\n",
       "SalePrice              0\n",
       "LegalReference         0\n",
       "SoldAsVacant           0\n",
       "OwnerName          31216\n",
       "OwnerAddress       30462\n",
       "Acreage            30462\n",
       "TaxDistrict        30462\n",
       "LandValue          30462\n",
       "BuildingValue      30462\n",
       "TotalValue         30462\n",
       "YearBuilt          32314\n",
       "Bedrooms           32320\n",
       "FullBath           32202\n",
       "HalfBath           32333\n",
       "dtype: int64"
      ]
     },
     "execution_count": 115,
     "metadata": {},
     "output_type": "execute_result"
    }
   ],
   "source": [
    "df.isna().sum() # this gives the empty rows"
   ]
  },
  {
   "cell_type": "code",
   "execution_count": 100,
   "id": "fd9d9636",
   "metadata": {
    "scrolled": true
   },
   "outputs": [
    {
     "data": {
      "text/plain": [
       "UniqueID            0.000000\n",
       "ParcelID            0.000000\n",
       "LandUse             0.000000\n",
       "PropertyAddress     0.051348\n",
       "SaleDate            0.000000\n",
       "SalePrice           0.000000\n",
       "LegalReference      0.000000\n",
       "SoldAsVacant        0.000000\n",
       "OwnerName          55.272058\n",
       "OwnerAddress       53.937001\n",
       "Acreage            53.937001\n",
       "TaxDistrict        53.937001\n",
       "LandValue          53.937001\n",
       "BuildingValue      53.937001\n",
       "TotalValue         53.937001\n",
       "YearBuilt          57.216212\n",
       "Bedrooms           57.226836\n",
       "FullBath           57.017901\n",
       "HalfBath           57.249854\n",
       "dtype: float64"
      ]
     },
     "execution_count": 100,
     "metadata": {},
     "output_type": "execute_result"
    }
   ],
   "source": [
    "(df.isna().sum() / len(df) * 100)\n",
    "#this is the percentage of missing values"
   ]
  },
  {
   "cell_type": "code",
   "execution_count": 118,
   "id": "c13de7e8",
   "metadata": {},
   "outputs": [
    {
     "data": {
      "text/plain": [
       "0       2013-04-09\n",
       "1       2014-06-10\n",
       "2       2016-09-26\n",
       "3       2016-01-29\n",
       "4       2014-10-10\n",
       "           ...    \n",
       "56472   2015-05-27\n",
       "56473   2015-03-02\n",
       "56474   2016-08-16\n",
       "56475   2016-09-07\n",
       "56476   2016-09-07\n",
       "Name: SaleDate, Length: 56477, dtype: datetime64[ns]"
      ]
     },
     "execution_count": 118,
     "metadata": {},
     "output_type": "execute_result"
    }
   ],
   "source": [
    "df.SaleDate \n",
    "#this is a date column. th year, day and month can be extracted separately using pandas datetime.e "
   ]
  },
  {
   "cell_type": "code",
   "execution_count": 17,
   "id": "e0b6a95b",
   "metadata": {},
   "outputs": [
    {
     "data": {
      "text/plain": [
       "0        2013-04\n",
       "1        2014-06\n",
       "2        2016-09\n",
       "3        2016-01\n",
       "4        2014-10\n",
       "          ...   \n",
       "56472    2015-05\n",
       "56473    2015-03\n",
       "56474    2016-08\n",
       "56475    2016-09\n",
       "56476    2016-09\n",
       "Name: Month_Year, Length: 56477, dtype: period[M]"
      ]
     },
     "execution_count": 17,
     "metadata": {},
     "output_type": "execute_result"
    }
   ],
   "source": [
    "#we can generate the month and the year from the saledate column\n",
    "df['Month_Year'] = df['SaleDate'].dt.to_period('M')\n",
    "df.Month_Year"
   ]
  },
  {
   "cell_type": "code",
   "execution_count": 18,
   "id": "21634b17",
   "metadata": {},
   "outputs": [],
   "source": [
    "df['year'] = pd.DatetimeIndex(df['SaleDate']).year\n",
    "df['month'] = pd.DatetimeIndex(df['SaleDate']).month"
   ]
  },
  {
   "cell_type": "code",
   "execution_count": 19,
   "id": "f4fa5323",
   "metadata": {},
   "outputs": [
    {
     "data": {
      "text/plain": [
       "0         4\n",
       "1         6\n",
       "2         9\n",
       "3         1\n",
       "4        10\n",
       "         ..\n",
       "56472     5\n",
       "56473     3\n",
       "56474     8\n",
       "56475     9\n",
       "56476     9\n",
       "Name: month, Length: 56477, dtype: int64"
      ]
     },
     "execution_count": 19,
     "metadata": {},
     "output_type": "execute_result"
    }
   ],
   "source": [
    "df.month"
   ]
  },
  {
   "cell_type": "code",
   "execution_count": 20,
   "id": "2a45d05c",
   "metadata": {},
   "outputs": [
    {
     "data": {
      "text/plain": [
       "0        2013\n",
       "1        2014\n",
       "2        2016\n",
       "3        2016\n",
       "4        2014\n",
       "         ... \n",
       "56472    2015\n",
       "56473    2015\n",
       "56474    2016\n",
       "56475    2016\n",
       "56476    2016\n",
       "Name: year, Length: 56477, dtype: int64"
      ]
     },
     "execution_count": 20,
     "metadata": {},
     "output_type": "execute_result"
    }
   ],
   "source": [
    "df.year"
   ]
  },
  {
   "cell_type": "code",
   "execution_count": 124,
   "id": "9424fee5",
   "metadata": {},
   "outputs": [
    {
     "data": {
      "text/plain": [
       "0        240000\n",
       "1        366000\n",
       "2        435000\n",
       "3        255000\n",
       "4        278000\n",
       "          ...  \n",
       "56472    157500\n",
       "56473    145000\n",
       "56474    234611\n",
       "56475     93844\n",
       "56476     93844\n",
       "Name: SalePrice, Length: 56477, dtype: int64"
      ]
     },
     "execution_count": 124,
     "metadata": {},
     "output_type": "execute_result"
    }
   ],
   "source": [
    "df.SalePrice"
   ]
  },
  {
   "cell_type": "code",
   "execution_count": 126,
   "id": "2d243d22",
   "metadata": {},
   "outputs": [
    {
     "data": {
      "text/plain": [
       "20150511-0042855    116\n",
       "20150202-0009517     92\n",
       "20130702-0068072     85\n",
       "20140106-0001071     78\n",
       "20150513-0043661     72\n",
       "                   ... \n",
       "20150901-0088376      1\n",
       "20131002-0103162      1\n",
       "20151215-0125807      1\n",
       "20141021-0096963      1\n",
       "20161018-0109912      1\n",
       "Name: LegalReference, Length: 52761, dtype: int64"
      ]
     },
     "execution_count": 126,
     "metadata": {},
     "output_type": "execute_result"
    }
   ],
   "source": [
    "df.LegalReference.value_counts()"
   ]
  },
  {
   "cell_type": "code",
   "execution_count": 129,
   "id": "eff82327",
   "metadata": {},
   "outputs": [
    {
     "data": {
      "text/plain": [
       "No     51403\n",
       "Yes     4623\n",
       "N        399\n",
       "Y         52\n",
       "Name: SoldAsVacant, dtype: int64"
      ]
     },
     "execution_count": 129,
     "metadata": {},
     "output_type": "execute_result"
    }
   ],
   "source": [
    "df.SoldAsVacant.value_counts() "
   ]
  },
  {
   "cell_type": "code",
   "execution_count": 132,
   "id": "59616179",
   "metadata": {},
   "outputs": [
    {
     "data": {
      "text/plain": [
       "No     51802\n",
       "Yes     4675\n",
       "Name: SoldAsVacant, dtype: int64"
      ]
     },
     "execution_count": 132,
     "metadata": {},
     "output_type": "execute_result"
    }
   ],
   "source": [
    "#so we can change the N to No and y to yes\n",
    "df.SoldAsVacant = df.SoldAsVacant.replace({'N':'No', 'Y':'Yes'})\n",
    "df.SoldAsVacant.value_counts()"
   ]
  },
  {
   "cell_type": "code",
   "execution_count": 135,
   "id": "11ae79a2",
   "metadata": {},
   "outputs": [
    {
     "data": {
      "text/plain": [
       "0                 FRAZIER, CYRENTHA LYNETTE\n",
       "1                   BONER, CHARLES & LESLIE\n",
       "2                 WILSON, JAMES E. & JOANNE\n",
       "3                  BAKER, JAY K. & SUSAN E.\n",
       "4        POST, CHRISTOPHER M. & SAMANTHA C.\n",
       "                        ...                \n",
       "56472                                   NaN\n",
       "56473                                   NaN\n",
       "56474                                   NaN\n",
       "56475                                   NaN\n",
       "56476                                   NaN\n",
       "Name: OwnerName, Length: 56477, dtype: object"
      ]
     },
     "execution_count": 135,
     "metadata": {},
     "output_type": "execute_result"
    }
   ],
   "source": [
    "df.OwnerName\n",
    "#if you remember from this col to the last one, \n",
    "#50 percent of the data is missing. you can decide to fill the nan values with None"
   ]
  },
  {
   "cell_type": "code",
   "execution_count": 24,
   "id": "03f96227",
   "metadata": {},
   "outputs": [],
   "source": [
    "missing_cols = ['OwnerName',\n",
    "       'OwnerAddress', 'Acreage', 'TaxDistrict', 'LandValue', 'BuildingValue',\n",
    "       'TotalValue', 'YearBuilt', 'Bedrooms', 'FullBath', 'HalfBath']\n",
    "#we can fill NaN values with 0"
   ]
  },
  {
   "cell_type": "code",
   "execution_count": 139,
   "id": "7dadd45b",
   "metadata": {},
   "outputs": [
    {
     "data": {
      "text/plain": [
       "0        2.3\n",
       "1        3.5\n",
       "2        2.9\n",
       "3        2.6\n",
       "4        2.0\n",
       "        ... \n",
       "56472    NaN\n",
       "56473    NaN\n",
       "56474    NaN\n",
       "56475    NaN\n",
       "56476    NaN\n",
       "Name: Acreage, Length: 56477, dtype: float64"
      ]
     },
     "execution_count": 139,
     "metadata": {},
     "output_type": "execute_result"
    }
   ],
   "source": [
    "#we can fill the Nan values with 0\n",
    "df.Acreage "
   ]
  },
  {
   "cell_type": "code",
   "execution_count": 35,
   "id": "fc10d467",
   "metadata": {},
   "outputs": [
    {
     "data": {
      "text/plain": [
       "0        2.3\n",
       "1        3.5\n",
       "2        2.9\n",
       "3        2.6\n",
       "4        2.0\n",
       "        ... \n",
       "56472    0.0\n",
       "56473    0.0\n",
       "56474    0.0\n",
       "56475    0.0\n",
       "56476    0.0\n",
       "Name: Acreage, Length: 56477, dtype: float64"
      ]
     },
     "execution_count": 35,
     "metadata": {},
     "output_type": "execute_result"
    }
   ],
   "source": [
    "df.Acreage = df.Acreage.replace(to_replace=np.NaN, value=0)\n",
    "df.Acreage"
   ]
  },
  {
   "cell_type": "code",
   "execution_count": 22,
   "id": "5379375f",
   "metadata": {},
   "outputs": [
    {
     "data": {
      "text/plain": [
       "0        50000.0\n",
       "1        50000.0\n",
       "2        50000.0\n",
       "3        50000.0\n",
       "4        50000.0\n",
       "          ...   \n",
       "56472        0.0\n",
       "56473        0.0\n",
       "56474        0.0\n",
       "56475        0.0\n",
       "56476        0.0\n",
       "Name: LandValue, Length: 56477, dtype: float64"
      ]
     },
     "execution_count": 22,
     "metadata": {},
     "output_type": "execute_result"
    }
   ],
   "source": [
    "#you can replace with 0 \n",
    "df.LandValue = df.LandValue.replace(to_replace=np.NaN, value=0)\n",
    "df.LandValue"
   ]
  },
  {
   "cell_type": "code",
   "execution_count": 25,
   "id": "addde697",
   "metadata": {},
   "outputs": [
    {
     "data": {
      "text/plain": [
       "['OwnerName',\n",
       " 'OwnerAddress',\n",
       " 'Acreage',\n",
       " 'TaxDistrict',\n",
       " 'LandValue',\n",
       " 'BuildingValue',\n",
       " 'TotalValue',\n",
       " 'YearBuilt',\n",
       " 'Bedrooms',\n",
       " 'FullBath',\n",
       " 'HalfBath']"
      ]
     },
     "execution_count": 25,
     "metadata": {},
     "output_type": "execute_result"
    }
   ],
   "source": [
    "missing_cols"
   ]
  },
  {
   "cell_type": "code",
   "execution_count": 26,
   "id": "11575774",
   "metadata": {},
   "outputs": [
    {
     "data": {
      "text/plain": [
       "0        168200.0\n",
       "1        264100.0\n",
       "2        216200.0\n",
       "3        147300.0\n",
       "4        152300.0\n",
       "           ...   \n",
       "56472         0.0\n",
       "56473         0.0\n",
       "56474         0.0\n",
       "56475         0.0\n",
       "56476         0.0\n",
       "Name: BuildingValue, Length: 56477, dtype: float64"
      ]
     },
     "execution_count": 26,
     "metadata": {},
     "output_type": "execute_result"
    }
   ],
   "source": [
    "df.BuildingValue = df.BuildingValue.replace(to_replace=np.NaN, value=0)\n",
    "df.BuildingValue"
   ]
  },
  {
   "cell_type": "code",
   "execution_count": 28,
   "id": "033e1e6c",
   "metadata": {},
   "outputs": [
    {
     "data": {
      "text/plain": [
       "0        235700.0\n",
       "1        319000.0\n",
       "2        298000.0\n",
       "3        197300.0\n",
       "4        202300.0\n",
       "           ...   \n",
       "56472         0.0\n",
       "56473         0.0\n",
       "56474         0.0\n",
       "56475         0.0\n",
       "56476         0.0\n",
       "Name: TotalValue, Length: 56477, dtype: float64"
      ]
     },
     "execution_count": 28,
     "metadata": {},
     "output_type": "execute_result"
    }
   ],
   "source": [
    "df.TotalValue = df.TotalValue.replace(to_replace=np.NaN, value=0)\n",
    "df.TotalValue"
   ]
  },
  {
   "cell_type": "code",
   "execution_count": 29,
   "id": "69614a45",
   "metadata": {},
   "outputs": [
    {
     "data": {
      "text/plain": [
       "0        3.0\n",
       "1        3.0\n",
       "2        4.0\n",
       "3        3.0\n",
       "4        4.0\n",
       "        ... \n",
       "56472    0.0\n",
       "56473    0.0\n",
       "56474    0.0\n",
       "56475    0.0\n",
       "56476    0.0\n",
       "Name: Bedrooms, Length: 56477, dtype: float64"
      ]
     },
     "execution_count": 29,
     "metadata": {},
     "output_type": "execute_result"
    }
   ],
   "source": [
    "df.Bedrooms = df.Bedrooms.replace(to_replace=np.NaN, value=0)\n",
    "df.Bedrooms"
   ]
  },
  {
   "cell_type": "code",
   "execution_count": 30,
   "id": "2e7a61b9",
   "metadata": {},
   "outputs": [
    {
     "data": {
      "text/plain": [
       "0        3.0\n",
       "1        3.0\n",
       "2        3.0\n",
       "3        3.0\n",
       "4        3.0\n",
       "        ... \n",
       "56472    0.0\n",
       "56473    0.0\n",
       "56474    0.0\n",
       "56475    0.0\n",
       "56476    0.0\n",
       "Name: FullBath, Length: 56477, dtype: float64"
      ]
     },
     "execution_count": 30,
     "metadata": {},
     "output_type": "execute_result"
    }
   ],
   "source": [
    "df.FullBath = df.FullBath.replace(to_replace=np.NaN, value=0)\n",
    "df.FullBath"
   ]
  },
  {
   "cell_type": "code",
   "execution_count": 31,
   "id": "b3fdb289",
   "metadata": {},
   "outputs": [
    {
     "data": {
      "text/plain": [
       "0        0.0\n",
       "1        2.0\n",
       "2        0.0\n",
       "3        0.0\n",
       "4        0.0\n",
       "        ... \n",
       "56472    0.0\n",
       "56473    0.0\n",
       "56474    0.0\n",
       "56475    0.0\n",
       "56476    0.0\n",
       "Name: HalfBath, Length: 56477, dtype: float64"
      ]
     },
     "execution_count": 31,
     "metadata": {},
     "output_type": "execute_result"
    }
   ],
   "source": [
    "df.HalfBath = df.HalfBath.replace(to_replace=np.NaN, value=0)\n",
    "df.HalfBath"
   ]
  },
  {
   "cell_type": "code",
   "execution_count": 37,
   "id": "439d8335",
   "metadata": {},
   "outputs": [
    {
     "data": {
      "text/plain": [
       "0        1986.0\n",
       "1        1998.0\n",
       "2        1987.0\n",
       "3        1985.0\n",
       "4        1984.0\n",
       "          ...  \n",
       "56472       0.0\n",
       "56473       0.0\n",
       "56474       0.0\n",
       "56475       0.0\n",
       "56476       0.0\n",
       "Name: YearBuilt, Length: 56477, dtype: float64"
      ]
     },
     "execution_count": 37,
     "metadata": {},
     "output_type": "execute_result"
    }
   ],
   "source": [
    "df.YearBuilt = df.YearBuilt.replace(to_replace=np.NaN, value=0)\n",
    "df.YearBuilt"
   ]
  },
  {
   "cell_type": "code",
   "execution_count": 33,
   "id": "efe9f6be",
   "metadata": {},
   "outputs": [
    {
     "name": "stdout",
     "output_type": "stream",
     "text": [
      "<class 'pandas.core.frame.DataFrame'>\n",
      "RangeIndex: 56477 entries, 0 to 56476\n",
      "Data columns (total 22 columns):\n",
      " #   Column           Non-Null Count  Dtype         \n",
      "---  ------           --------------  -----         \n",
      " 0   UniqueID         56477 non-null  int64         \n",
      " 1   ParcelID         56477 non-null  object        \n",
      " 2   LandUse          56477 non-null  object        \n",
      " 3   PropertyAddress  56448 non-null  object        \n",
      " 4   SaleDate         56477 non-null  datetime64[ns]\n",
      " 5   SalePrice        56477 non-null  int64         \n",
      " 6   LegalReference   56477 non-null  object        \n",
      " 7   SoldAsVacant     56477 non-null  object        \n",
      " 8   OwnerName        25261 non-null  object        \n",
      " 9   OwnerAddress     26015 non-null  object        \n",
      " 10  Acreage          26015 non-null  float64       \n",
      " 11  TaxDistrict      26015 non-null  object        \n",
      " 12  LandValue        56477 non-null  float64       \n",
      " 13  BuildingValue    56477 non-null  float64       \n",
      " 14  TotalValue       56477 non-null  float64       \n",
      " 15  YearBuilt        24163 non-null  float64       \n",
      " 16  Bedrooms         56477 non-null  float64       \n",
      " 17  FullBath         56477 non-null  float64       \n",
      " 18  HalfBath         56477 non-null  float64       \n",
      " 19  Month_Year       56477 non-null  period[M]     \n",
      " 20  year             56477 non-null  int64         \n",
      " 21  month            56477 non-null  int64         \n",
      "dtypes: datetime64[ns](1), float64(8), int64(4), object(8), period[M](1)\n",
      "memory usage: 9.5+ MB\n"
     ]
    }
   ],
   "source": [
    "df.info()"
   ]
  },
  {
   "cell_type": "code",
   "execution_count": 40,
   "id": "22f96933",
   "metadata": {},
   "outputs": [
    {
     "data": {
      "text/plain": [
       "0        GENERAL SERVICES DISTRICT\n",
       "1        GENERAL SERVICES DISTRICT\n",
       "2        GENERAL SERVICES DISTRICT\n",
       "3        GENERAL SERVICES DISTRICT\n",
       "4        GENERAL SERVICES DISTRICT\n",
       "                   ...            \n",
       "56472                          NaN\n",
       "56473                          NaN\n",
       "56474                          NaN\n",
       "56475                          NaN\n",
       "56476                          NaN\n",
       "Name: TaxDistrict, Length: 56477, dtype: object"
      ]
     },
     "execution_count": 40,
     "metadata": {},
     "output_type": "execute_result"
    }
   ],
   "source": [
    "df.TaxDistrict "
   ]
  },
  {
   "cell_type": "code",
   "execution_count": 47,
   "id": "f559610d",
   "metadata": {},
   "outputs": [],
   "source": [
    "df.PropertyAddress= df.PropertyAddress.fillna(0)\n",
    "df.TaxDistrict = df.TaxDistrict.fillna(0)\n",
    "df.OwnerName = df.OwnerName.fillna(0)\n",
    "df.OwnerAddress = df.OwnerAddress.fillna(0)"
   ]
  },
  {
   "cell_type": "code",
   "execution_count": 48,
   "id": "46908748",
   "metadata": {},
   "outputs": [
    {
     "data": {
      "text/plain": [
       "UniqueID           0\n",
       "ParcelID           0\n",
       "LandUse            0\n",
       "PropertyAddress    0\n",
       "SaleDate           0\n",
       "SalePrice          0\n",
       "LegalReference     0\n",
       "SoldAsVacant       0\n",
       "OwnerName          0\n",
       "OwnerAddress       0\n",
       "Acreage            0\n",
       "TaxDistrict        0\n",
       "LandValue          0\n",
       "BuildingValue      0\n",
       "TotalValue         0\n",
       "YearBuilt          0\n",
       "Bedrooms           0\n",
       "FullBath           0\n",
       "HalfBath           0\n",
       "Month_Year         0\n",
       "year               0\n",
       "month              0\n",
       "dtype: int64"
      ]
     },
     "execution_count": 48,
     "metadata": {},
     "output_type": "execute_result"
    }
   ],
   "source": [
    "df.isna().sum()"
   ]
  }
 ],
 "metadata": {
  "kernelspec": {
   "display_name": "Python 3 (ipykernel)",
   "language": "python",
   "name": "python3"
  },
  "language_info": {
   "codemirror_mode": {
    "name": "ipython",
    "version": 3
   },
   "file_extension": ".py",
   "mimetype": "text/x-python",
   "name": "python",
   "nbconvert_exporter": "python",
   "pygments_lexer": "ipython3",
   "version": "3.9.12"
  }
 },
 "nbformat": 4,
 "nbformat_minor": 5
}
